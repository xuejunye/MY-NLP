{
 "cells": [
  {
   "cell_type": "code",
   "execution_count": 88,
   "metadata": {
    "collapsed": true
   },
   "outputs": [],
   "source": [
    "# -*- encoding:utf-8 -*-\n",
    "import jieba.analyse\n",
    "from os import path\n",
    "from scipy.misc import imread\n",
    "from PIL import Image\n",
    "import matplotlib as mpl\n",
    "import matplotlib.pyplot as plt \n",
    "from wordcloud import WordCloud, STOPWORDS, ImageColorGenerator\n"
   ]
  },
  {
   "cell_type": "code",
   "execution_count": 89,
   "metadata": {
    "collapsed": false
   },
   "outputs": [
    {
     "name": "stdout",
     "output_type": "stream",
     "text": [
      "关键词：\n",
      "卷积 0.2322113705277778\n",
      "embedding 0.21743128725512564\n",
      "word 0.21347799112321428\n",
      "神经网络 0.14929816521921296\n",
      "模型 0.11932192744973544\n",
      "CNN 0.11859888395734126\n",
      "训练 0.09674954941084656\n",
      "特征 0.09245217529527779\n",
      "情感 0.07637447887722554\n",
      "分类 0.06509067417232142\n"
     ]
    }
   ],
   "source": [
    "#jieba的TF-IDF算法提取关键词\n",
    "d = path.dirname('.')\n",
    "content = open(path.join(d, 'testing1.txt')).read()\n",
    "   \n",
    "\n",
    "# tags extraction based on TF-IDF algorithm提取关键词十个\n",
    "tags = jieba.analyse.extract_tags(content, topK=10, withWeight=True)\n",
    "print( '关键词：' )\n",
    "#print(text)\n",
    "for word, weight in tags:\n",
    "    print(word, weight)\n",
    "\n",
    "\n",
    "\n",
    "\n",
    "\n",
    "\n",
    "#是一篇专业论文，提取关键字看看"
   ]
  },
  {
   "cell_type": "code",
   "execution_count": 111,
   "metadata": {
    "collapsed": false
   },
   "outputs": [
    {
     "name": "stdout",
     "output_type": "stream",
     "text": [
      "关键词：\n",
      "特征 0.012808122544512782\n",
      "模型 0.012662499849293476\n",
      "word 0.009682760031966732\n",
      "进行 0.009211940460081783\n",
      "能够 0.00880385045111746\n",
      "数据 0.008481057822091674\n",
      "卷积 0.008314086461785275\n",
      "训练 0.008013659746483161\n",
      "cnn 0.007078070149296687\n",
      "embedding 0.006766569159843234\n"
     ]
    }
   ],
   "source": [
    "#textrank4zh算法提取关键词\n",
    "#-*- encoding:utf-8 -*-\n",
    "from __future__ import print_function\n",
    "\n",
    "import sys\n",
    "try:\n",
    "    reload(sys)\n",
    "    sys.setdefaultencoding('utf-8')\n",
    "except:\n",
    "    pass\n",
    "\n",
    "import codecs\n",
    "from textrank4zh import TextRank4Keyword, TextRank4Sentence\n",
    "d = path.dirname('.')\n",
    "text = open(path.join(d, 'testing1.txt')).read()\n",
    "tr4w = TextRank4Keyword()\n",
    "tr4w.analyze(text=text, lower=True, window=2)  # py2中text必须是utf8编码的str或者unicode对象，py3中必须是utf8编码的bytes或者str对象\n",
    "print( '关键词：' )\n",
    "#print(tr4w.text)\n",
    "for item in tr4w.get_keywords(10, word_min_len=1):\n",
    "    print(item.word, item.weight)"
   ]
  }
 ],
 "metadata": {
  "kernelspec": {
   "display_name": "Python 3",
   "language": "python",
   "name": "python3"
  },
  "language_info": {
   "codemirror_mode": {
    "name": "ipython",
    "version": 3
   },
   "file_extension": ".py",
   "mimetype": "text/x-python",
   "name": "python",
   "nbconvert_exporter": "python",
   "pygments_lexer": "ipython3",
   "version": "3.6.0"
  }
 },
 "nbformat": 4,
 "nbformat_minor": 2
}
